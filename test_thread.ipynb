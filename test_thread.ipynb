{
 "cells": [
  {
   "cell_type": "code",
   "execution_count": 1,
   "id": "8801610f-18f5-4544-991b-f13900749010",
   "metadata": {},
   "outputs": [],
   "source": [
    "import dash\n",
    "from dash import dcc, html\n",
    "from dash.dependencies import Input, Output\n",
    "import threading\n",
    "\n",
    "app = dash.Dash(__name__)\n",
    "\n",
    "app.layout = html.Div([\n",
    "    html.H1(\"Hello Dash\"),\n",
    "    dcc.Input(id='input', value='initial value', type='text'),\n",
    "    html.Div(id='output')\n",
    "])\n",
    "\n",
    "@app.callback(\n",
    "    Output(component_id='output', component_property='children'),\n",
    "    [Input(component_id='input', component_property='value')]\n",
    ")\n",
    "def update_output_div(input_value):\n",
    "    return f'You\\'ve entered \"{input_value}\"'\n",
    "\n",
    "def run_dash():\n",
    "    app.run_server(debug=True, port=8050)\n",
    "\n",
    "dash_thread = threading.Thread(target=run_dash)\n",
    "dash_thread.start()"
   ]
  },
  {
   "cell_type": "code",
   "execution_count": 2,
   "id": "45e3c958-be37-4c41-9f92-83c9c6dbb250",
   "metadata": {},
   "outputs": [
    {
     "data": {
      "text/html": [
       "\n",
       "        <iframe\n",
       "            width=\"100%\"\n",
       "            height=\"600px\"\n",
       "            src=\"http://127.0.0.1:8050\"\n",
       "            frameborder=\"0\"\n",
       "            allowfullscreen\n",
       "            \n",
       "        ></iframe>\n",
       "        "
      ],
      "text/plain": [
       "<IPython.lib.display.IFrame at 0x116fe1490>"
      ]
     },
     "metadata": {},
     "output_type": "display_data"
    }
   ],
   "source": [
    "from IPython.display import IFrame\n",
    "\n",
    "# Display the Dash app in an IFrame\n",
    "display(IFrame(src=\"http://127.0.0.1:8050\", width=\"100%\", height=\"600px\"))"
   ]
  },
  {
   "cell_type": "code",
   "execution_count": null,
   "id": "a1e16064-b274-4ce5-8b90-8cde255e12c7",
   "metadata": {},
   "outputs": [],
   "source": []
  }
 ],
 "metadata": {
  "kernelspec": {
   "display_name": "Python 3 (ipykernel)",
   "language": "python",
   "name": "python3"
  },
  "language_info": {
   "codemirror_mode": {
    "name": "ipython",
    "version": 3
   },
   "file_extension": ".py",
   "mimetype": "text/x-python",
   "name": "python",
   "nbconvert_exporter": "python",
   "pygments_lexer": "ipython3",
   "version": "3.12.3"
  }
 },
 "nbformat": 4,
 "nbformat_minor": 5
}
