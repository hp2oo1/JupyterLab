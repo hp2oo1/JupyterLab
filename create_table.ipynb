{
 "cells": [
  {
   "cell_type": "code",
   "execution_count": 1,
   "id": "a4883ba6-7b39-400c-b776-0b9135e1fdab",
   "metadata": {},
   "outputs": [
    {
     "data": {
      "text/html": [
       "\n",
       "        <iframe\n",
       "            width=\"100%\"\n",
       "            height=\"650\"\n",
       "            src=\"http://127.0.0.1:8050/\"\n",
       "            frameborder=\"0\"\n",
       "            allowfullscreen\n",
       "            \n",
       "        ></iframe>\n",
       "        "
      ],
      "text/plain": [
       "<IPython.lib.display.IFrame at 0x10d862fc0>"
      ]
     },
     "metadata": {},
     "output_type": "display_data"
    }
   ],
   "source": [
    "# create_table.ipynb\n",
    "\n",
    "import excel_like_table as elt\n",
    "from datetime import datetime\n",
    "\n",
    "# Sample input\n",
    "input_data = [\n",
    "    {\"name\": \"Alice\", \"age\": 30, \"birthday\": datetime(1993, 5, 17, 14, 30), \"salary\": 60000.00, \"city\": [\"New York\", \"Los Angeles\"], \"meetings\": [datetime(2023, 5, 28, 10, 0), datetime(2023, 6, 15, 14, 0)]},\n",
    "    {\"name\": \"Bob\", \"age\": 25, \"birthday\": datetime(1998, 8, 24, 9, 15), \"salary\": 50000.50, \"city\": [\"San Francisco\", \"Seattle\"], \"meetings\": [datetime(2023, 5, 30, 16, 0), datetime(2023, 6, 20, 11, 0)]}\n",
    "]\n",
    "\n",
    "# Create the table\n",
    "elt.create_table(input_data)"
   ]
  },
  {
   "cell_type": "code",
   "execution_count": 2,
   "id": "ed8301d7-4505-49a2-8880-22a38a23e4f4",
   "metadata": {},
   "outputs": [
    {
     "name": "stdout",
     "output_type": "stream",
     "text": [
      "[{'name': 'Alice', 'age': 30, 'birthday': '1993-05-17T14:30:00', 'salary': 60000.0, 'city': 'New York,Los Angeles', 'meetings': '2023-05-28T10:00:00,2023-06-15T14:00:00'}, {'name': 'Bob', 'age': 25, 'birthday': '1998-08-24T09:15:00', 'salary': 50000.5, 'city': 'San Francisco,Seattle', 'meetings': '2023-05-30T16:00:00,2023-06-20T11:00:00'}, {'name': 'Bob', 'age': 25, 'birthday': '1998-08-24T09:15:00', 'salary': 50000.5, 'city': 'San Francisco,Seattle', 'meetings': '2023-05-30T16:00:00,2023-06-20T11:00:00'}]\n"
     ]
    }
   ],
   "source": [
    "# Load the saved table data\n",
    "saved_data = elt.load_saved_table()\n",
    "print(saved_data)"
   ]
  },
  {
   "cell_type": "code",
   "execution_count": null,
   "id": "e36f0722-fe10-44c1-a5fd-c1636345dace",
   "metadata": {},
   "outputs": [],
   "source": []
  }
 ],
 "metadata": {
  "kernelspec": {
   "display_name": "Python 3 (ipykernel)",
   "language": "python",
   "name": "python3"
  },
  "language_info": {
   "codemirror_mode": {
    "name": "ipython",
    "version": 3
   },
   "file_extension": ".py",
   "mimetype": "text/x-python",
   "name": "python",
   "nbconvert_exporter": "python",
   "pygments_lexer": "ipython3",
   "version": "3.12.3"
  }
 },
 "nbformat": 4,
 "nbformat_minor": 5
}
